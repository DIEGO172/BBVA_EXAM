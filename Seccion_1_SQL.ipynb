{
 "cells": [
  {
   "cell_type": "code",
   "execution_count": 1,
   "id": "d8316648",
   "metadata": {},
   "outputs": [],
   "source": [
    "from pandasql import sqldf, load_meat, load_births\n",
    "import pandas as pd\n",
    "\n",
    "#global variables \n",
    "data_folder='C:/Users/ylove/Documents/Diego/examen_DS_bbva/examen_DS_bbva/data'\n"
   ]
  },
  {
   "cell_type": "code",
   "execution_count": 2,
   "id": "dc2f070b",
   "metadata": {},
   "outputs": [],
   "source": [
    "mysql = lambda q: sqldf(q, globals())"
   ]
  },
  {
   "cell_type": "markdown",
   "id": "f0e3ce65",
   "metadata": {},
   "source": [
    "## Ejercicio 1a: SQL básico"
   ]
  },
  {
   "cell_type": "markdown",
   "id": "caa5f5a5",
   "metadata": {},
   "source": [
    "### Lee los datos en la ruta data/lyft/lyft_rides_log.csv y data/lyft/lyft_users.csv"
   ]
  },
  {
   "cell_type": "code",
   "execution_count": 3,
   "id": "ff7b9098",
   "metadata": {},
   "outputs": [],
   "source": [
    "lyft_rides = pd.read_csv(data_folder+'/lyft/lyft_rides_log.csv')\n",
    "lyft_users = pd.read_csv(data_folder+'/lyft/lyft_users.csv')"
   ]
  },
  {
   "cell_type": "markdown",
   "id": "826de27c",
   "metadata": {},
   "source": [
    "### Encuentra los 10 usuarios principales que han recorrido la mayor distancia. Muestra sus nombres y la distancia total recorrida."
   ]
  },
  {
   "cell_type": "markdown",
   "id": "bd4262a2",
   "metadata": {},
   "source": [
    "Creamos la query que vamos a usar"
   ]
  },
  {
   "cell_type": "code",
   "execution_count": 4,
   "id": "777a57b3",
   "metadata": {},
   "outputs": [],
   "source": [
    "query = \"SELECT B.name, A.distance \\\n",
    "         FROM lyft_rides A \\\n",
    "         LEFT JOIN\\\n",
    "         lyft_users B ON A.user_id = B.id \\\n",
    "         ORDER BY distance DESC \\\n",
    "         LIMIT 10;\""
   ]
  },
  {
   "cell_type": "markdown",
   "id": "e0465064",
   "metadata": {},
   "source": [
    "Resultado"
   ]
  },
  {
   "cell_type": "code",
   "execution_count": 5,
   "id": "eacc3e52",
   "metadata": {},
   "outputs": [
    {
     "name": "stdout",
     "output_type": "stream",
     "text": [
      "                  name  distance\n",
      "0       Barbara Larson        98\n",
      "1      Christina Price        98\n",
      "2  Christopher Schmitt        96\n",
      "3         Crystal Berg        96\n",
      "4      Kimberly Potter        95\n",
      "5           Pamela Cox        94\n",
      "6       Barbara Larson        94\n",
      "7    Patrick Gutierrez        93\n",
      "8       Dennis Douglas        93\n",
      "9          Dean Cuevas        92\n"
     ]
    }
   ],
   "source": [
    "print(mysql(query))"
   ]
  },
  {
   "cell_type": "markdown",
   "id": "391960e3",
   "metadata": {},
   "source": [
    "## Ejercicio 1b: Rendimiento del algoritmo"
   ]
  },
  {
   "cell_type": "markdown",
   "id": "385645d2",
   "metadata": {},
   "source": [
    "### Utiliza los datos de facebook de la ruta data/facebook/fb_search_events.csv y data/facebook/fb_search_results.csv."
   ]
  },
  {
   "cell_type": "code",
   "execution_count": 6,
   "id": "bff04a68",
   "metadata": {},
   "outputs": [],
   "source": [
    "fb_events = pd.read_csv(data_folder+'/facebook/fb_search_events.csv')\n",
    "fb_results = pd.read_csv(data_folder+'/facebook/fb_search_results.csv')"
   ]
  },
  {
   "cell_type": "markdown",
   "id": "a78eb881",
   "metadata": {},
   "source": [
    "### Escribe una consulta que evalúe el rendimiento del algoritmo de búsqueda frente a la consulta de cada usuario."
   ]
  },
  {
   "cell_type": "markdown",
   "id": "e87a7dda",
   "metadata": {},
   "source": [
    "Creamos la Query\n",
    "para este caso hacemos el promedio de la posición resultante y filtramos si se hizo click al hacer la búsqueda porque queremos ver este resultado al hacer click, hay consultas que no están en la base de click estas se remueven ya que si no se tiene información no se pueden imputar"
   ]
  },
  {
   "cell_type": "code",
   "execution_count": 9,
   "id": "ac230de7",
   "metadata": {},
   "outputs": [],
   "source": [
    "query = \"SELECT A.query, AVG(B.search_results_position) AS AVG_RATE_PER_CLICK\\\n",
    "          FROM fb_results A\\\n",
    "          LEFT JOIN fb_events B\\\n",
    "          ON A.search_id = B.search_id\\\n",
    "          WHERE B.clicked = 1\\\n",
    "          GROUP BY A.query\\\n",
    "          ORDER BY 2 DESC\""
   ]
  },
  {
   "cell_type": "markdown",
   "id": "b0c2c42b",
   "metadata": {},
   "source": [
    "Resultado"
   ]
  },
  {
   "cell_type": "code",
   "execution_count": 10,
   "id": "1f97d382",
   "metadata": {},
   "outputs": [
    {
     "name": "stdout",
     "output_type": "stream",
     "text": [
      "      query  AVG_RATE_PER_CLICK\n",
      "0  national                 5.0\n",
      "1      fire                 5.0\n",
      "2       cat                 2.5\n",
      "3    sister                 2.0\n",
      "4    rabbit                 1.0\n",
      "5    police                 1.0\n"
     ]
    }
   ],
   "source": [
    "print(mysql(query))"
   ]
  }
 ],
 "metadata": {
  "kernelspec": {
   "display_name": "Python 3 (ipykernel)",
   "language": "python",
   "name": "python3"
  },
  "language_info": {
   "codemirror_mode": {
    "name": "ipython",
    "version": 3
   },
   "file_extension": ".py",
   "mimetype": "text/x-python",
   "name": "python",
   "nbconvert_exporter": "python",
   "pygments_lexer": "ipython3",
   "version": "3.8.12"
  }
 },
 "nbformat": 4,
 "nbformat_minor": 5
}
